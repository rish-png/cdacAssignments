{
 "cells": [
  {
   "cell_type": "markdown",
   "metadata": {},
   "source": [
    "<h1 align=\"center\"><u>Pandas Assignment 1 </u></h1>"
   ]
  },
  {
   "cell_type": "markdown",
   "metadata": {},
   "source": [
    "<h2 align=\"center\">\n",
    "  <a href=\"https://github.com/rahul96rajan/cdacAssignments/tree/master/Pandas_Assignment/Assignment_1.ipynb\">GitHub URL</a>\n",
    "</h2>"
   ]
  },
  {
   "cell_type": "markdown",
   "metadata": {},
   "source": [
    "#### Q1: Write a Pandas program to create and display a one-dimensional array-like object containing an array of data."
   ]
  },
  {
   "cell_type": "code",
   "execution_count": 1,
   "metadata": {},
   "outputs": [
    {
     "name": "stdout",
     "output_type": "stream",
     "text": [
      "0     10\n",
      "1     11\n",
      "2     12\n",
      "3     13\n",
      "4     14\n",
      "5     15\n",
      "6     16\n",
      "7     17\n",
      "8     18\n",
      "9     19\n",
      "10    20\n",
      "dtype: int64\n"
     ]
    }
   ],
   "source": [
    "import numpy as np\n",
    "import pandas as pd\n",
    "\n",
    "\n",
    "serie = pd.Series(range(10,21))\n",
    "print(serie)"
   ]
  },
  {
   "cell_type": "markdown",
   "metadata": {},
   "source": [
    "#### Q2: Write a Pandas program to convert a Panda module Series to Python list. Display the list and it’s type."
   ]
  },
  {
   "cell_type": "code",
   "execution_count": 2,
   "metadata": {},
   "outputs": [
    {
     "name": "stdout",
     "output_type": "stream",
     "text": [
      "[10, 11, 12, 13, 14, 15, 16, 17, 18, 19, 20]\n",
      "<class 'list'>\n"
     ]
    }
   ],
   "source": [
    "lst = list(serie)\n",
    "print(lst)\n",
    "print(type(lst))"
   ]
  },
  {
   "cell_type": "markdown",
   "metadata": {},
   "source": [
    "#### Q3: Write a Python program to add, subtract, multiple and divide two Pandas Series."
   ]
  },
  {
   "cell_type": "code",
   "execution_count": 25,
   "metadata": {},
   "outputs": [
    {
     "name": "stdout",
     "output_type": "stream",
     "text": [
      "Serie 1\n",
      "0    10\n",
      "1    11\n",
      "2    12\n",
      "dtype: int64\n",
      "\n",
      "Serie 2 \n",
      "0    30\n",
      "1    31\n",
      "2    32\n",
      "dtype: int64\n",
      "\n",
      "Serie 2+Serie 1 \n",
      "0    40\n",
      "1    42\n",
      "2    44\n",
      "dtype: int64\n",
      "\n",
      "Serie 2-Serie 1 \n",
      "0    20\n",
      "1    20\n",
      "2    20\n",
      "dtype: int64\n",
      "\n",
      "Serie 2*Serie 1 \n",
      "0    300\n",
      "1    341\n",
      "2    384\n",
      "dtype: int64\n",
      "\n",
      "Serie 2/Serie 1 \n",
      "0    3.000000\n",
      "1    2.818182\n",
      "2    2.666667\n",
      "dtype: float64\n"
     ]
    }
   ],
   "source": [
    "serie1 = pd.Series(range(10,13))\n",
    "serie2 = pd.Series(range(30,33))\n",
    "print(\"Serie 1\\n\", serie1, sep=\"\")\n",
    "print(\"\\nSerie 2 \\n\", serie2, sep=\"\")\n",
    "print(\"\\nSerie 2+Serie 1 \\n\", serie2 + serie1, sep=\"\")\n",
    "print(\"\\nSerie 2-Serie 1 \\n\", serie2 - serie1, sep=\"\")\n",
    "print(\"\\nSerie 2*Serie 1 \\n\", serie2 * serie1, sep=\"\")\n",
    "print(\"\\nSerie 2/Serie 1 \\n\", serie2 / serie1, sep=\"\")"
   ]
  },
  {
   "cell_type": "markdown",
   "metadata": {},
   "source": [
    "#### Q4: Write a Python program to get the largest integer smaller or equal to the division of the inputs."
   ]
  },
  {
   "cell_type": "code",
   "execution_count": 34,
   "metadata": {},
   "outputs": [
    {
     "name": "stdout",
     "output_type": "stream",
     "text": [
      "Series:\n",
      "0     1\n",
      "1     2\n",
      "2     3\n",
      "3     4\n",
      "4     5\n",
      "5     6\n",
      "6     7\n",
      "7     8\n",
      "8     9\n",
      "9    10\n",
      "dtype: int64\n",
      "Please input an real number : 3.3\n",
      "\n",
      "Largest integer smaller or equal to the division of the input:\n",
      "0    0.0\n",
      "1    0.0\n",
      "2    0.0\n",
      "3    1.0\n",
      "4    1.0\n",
      "5    1.0\n",
      "6    2.0\n",
      "7    2.0\n",
      "8    2.0\n",
      "9    3.0\n",
      "dtype: float64\n"
     ]
    }
   ],
   "source": [
    "ser = pd.Series(range(1,11))\n",
    "print(\"Series:\\n\", ser, sep=\"\")\n",
    "num = float(input(\"Please input an real number : \"))\n",
    "print(\"\\nLargest integer smaller or equal to the division of the input:\\n\",\n",
    "      np.floor_divide(ser, num), sep=\"\")"
   ]
  },
  {
   "cell_type": "markdown",
   "metadata": {},
   "source": [
    "#### Q5: Write a Python program to convert a dictionary to a Pandas series. \n",
    "```Sample Series: \n",
    "Original dictionary:\n",
    "{'a': 100, 'b': 200, 'c': 300, 'd': 400, 'e': 800}\n",
    "Converted series:\n",
    "a 100\n",
    "b 200\n",
    "c 300\n",
    "d 400\n",
    "e 800\n",
    "dtype: int64\n",
    "```"
   ]
  },
  {
   "cell_type": "code",
   "execution_count": 4,
   "metadata": {},
   "outputs": [
    {
     "name": "stdout",
     "output_type": "stream",
     "text": [
      "A    100\n",
      "B    200\n",
      "C    300\n",
      "D    400\n",
      "E    800\n",
      "dtype: int64\n"
     ]
    }
   ],
   "source": [
    "dictionary = {'A': 100, 'B': 200, 'C': 300, 'D': 400, 'E': 800} \n",
    "series = pd.Series(dictionary) \n",
    "print(series)"
   ]
  },
  {
   "cell_type": "markdown",
   "metadata": {},
   "source": [
    "#### Q6: Write a Pandas program to convert a NumPy array to a Pandas series."
   ]
  },
  {
   "cell_type": "code",
   "execution_count": 5,
   "metadata": {},
   "outputs": [
    {
     "name": "stdout",
     "output_type": "stream",
     "text": [
      "0     1\n",
      "1     2\n",
      "2     3\n",
      "3     4\n",
      "4     5\n",
      "5     6\n",
      "6     7\n",
      "7     8\n",
      "8     9\n",
      "9    10\n",
      "dtype: int64\n"
     ]
    }
   ],
   "source": [
    "nparr = np.arange(1, 11)\n",
    "ser = pd.Series(nparr)\n",
    "print(ser)"
   ]
  },
  {
   "cell_type": "markdown",
   "metadata": {},
   "source": [
    "#### Q7: Write a Pandas program to change the data type of given a column or a Series."
   ]
  },
  {
   "cell_type": "code",
   "execution_count": 6,
   "metadata": {},
   "outputs": [
    {
     "name": "stdout",
     "output_type": "stream",
     "text": [
      "Before Convertion: int64\n",
      "After Convertion: float16\n"
     ]
    }
   ],
   "source": [
    "s = pd.Series([1, 2, -7])\n",
    "print(\"Before Convertion:\", s.dtype)\n",
    "s = s.astype(np.float16)\n",
    "print(\"After Convertion:\", s.dtype)"
   ]
  },
  {
   "cell_type": "markdown",
   "metadata": {},
   "source": [
    "#### Q8: Write a Pandas program to convert a given Series to an array."
   ]
  },
  {
   "cell_type": "code",
   "execution_count": 27,
   "metadata": {},
   "outputs": [
    {
     "name": "stdout",
     "output_type": "stream",
     "text": [
      "[ 1  2 -7]\n"
     ]
    }
   ],
   "source": [
    "s = pd.Series([1, 2, -7])\n",
    "print(s.to_numpy())"
   ]
  },
  {
   "cell_type": "markdown",
   "metadata": {},
   "source": [
    "#### Q9: Write a Pandas program to sort a given Series."
   ]
  },
  {
   "cell_type": "code",
   "execution_count": 11,
   "metadata": {},
   "outputs": [
    {
     "name": "stdout",
     "output_type": "stream",
     "text": [
      "Unsorted Series: \n",
      "0     inf\n",
      "1     1.0\n",
      "2     3.0\n",
      "3    10.0\n",
      "4     5.0\n",
      "5    -inf\n",
      "dtype: float64\n",
      "Unsorted Series: \n",
      "5    -inf\n",
      "1     1.0\n",
      "2     3.0\n",
      "4     5.0\n",
      "3    10.0\n",
      "0     inf\n",
      "dtype: float64\n"
     ]
    }
   ],
   "source": [
    "s = pd.Series([np.inf, 1, 3, 10, 5, -np.inf])\n",
    "print('Unsorted Series: \\n', s, sep=\"\")\n",
    "print('Unsorted Series: \\n', s.sort_values(ascending=True), sep=\"\")"
   ]
  },
  {
   "cell_type": "markdown",
   "metadata": {},
   "source": [
    "#### Q10: Write a Pandas program to add some data to an existing Series."
   ]
  },
  {
   "cell_type": "code",
   "execution_count": 16,
   "metadata": {},
   "outputs": [
    {
     "name": "stdout",
     "output_type": "stream",
     "text": [
      "0    1\n",
      "1    2\n",
      "2    3\n",
      "3    4\n",
      "4    5\n",
      "5    6\n",
      "dtype: int64\n"
     ]
    }
   ],
   "source": [
    "s1 = pd.Series([1, 2, 3])\n",
    "s2 = pd.Series([4, 5, 6])\n",
    "s1 = s1.append(s2, ignore_index=True)\n",
    "print(s1)"
   ]
  },
  {
   "cell_type": "markdown",
   "metadata": {},
   "source": [
    "#### Q11: Write a Pandas program to create the mean and standard deviation of the data of a given Series."
   ]
  },
  {
   "cell_type": "code",
   "execution_count": 19,
   "metadata": {},
   "outputs": [
    {
     "name": "stdout",
     "output_type": "stream",
     "text": [
      "Mean : 25.0\n",
      "Standard Deviation : 14.866068747318506\n"
     ]
    }
   ],
   "source": [
    "series = pd.Series(range(0,51))\n",
    "print(\"Mean :\", series.mean())\n",
    "print(\"Standard Deviation :\", series.std())"
   ]
  }
 ],
 "metadata": {
  "kernelspec": {
   "display_name": "Python 3",
   "language": "python",
   "name": "python3"
  },
  "language_info": {
   "codemirror_mode": {
    "name": "ipython",
    "version": 3
   },
   "file_extension": ".py",
   "mimetype": "text/x-python",
   "name": "python",
   "nbconvert_exporter": "python",
   "pygments_lexer": "ipython3",
   "version": "3.8.2"
  }
 },
 "nbformat": 4,
 "nbformat_minor": 4
}
