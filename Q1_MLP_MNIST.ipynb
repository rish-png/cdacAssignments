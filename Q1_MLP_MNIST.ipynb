{
 "cells": [
  {
   "cell_type": "markdown",
   "metadata": {},
   "source": [
    "#### Use MNIST dataset. Create multi-layer neural network model using sklearn package. Tune the hyperparameters in order increase the accuracy of test data. Also check the overfitting of your model."
   ]
  },
  {
   "cell_type": "code",
   "execution_count": 1,
   "metadata": {},
   "outputs": [],
   "source": [
    "import numpy as np\n",
    "import pandas as pd\n",
    "import matplotlib.pyplot as plt\n",
    "from sklearn.datasets import load_digits\n",
    "from sklearn.model_selection import train_test_split, GridSearchCV, StratifiedKFold\n",
    "from sklearn.neural_network import MLPClassifier\n",
    "from sklearn.metrics import f1_score, accuracy_score\n",
    "\n",
    "%matplotlib inline"
   ]
  },
  {
   "cell_type": "code",
   "execution_count": 2,
   "metadata": {},
   "outputs": [],
   "source": [
    "X, y = load_digits(return_X_y = True)"
   ]
  },
  {
   "cell_type": "code",
   "execution_count": 3,
   "metadata": {},
   "outputs": [],
   "source": [
    "X_train, X_test, y_train, y_test = train_test_split(X, y, test_size=0.2,\n",
    "                                                    stratify=y, random_state=42)"
   ]
  },
  {
   "cell_type": "code",
   "execution_count": 4,
   "metadata": {},
   "outputs": [
    {
     "data": {
      "text/plain": [
       "{0: 142,\n",
       " 1: 146,\n",
       " 2: 142,\n",
       " 3: 146,\n",
       " 4: 145,\n",
       " 5: 145,\n",
       " 6: 145,\n",
       " 7: 143,\n",
       " 8: 139,\n",
       " 9: 144}"
      ]
     },
     "execution_count": 4,
     "metadata": {},
     "output_type": "execute_result"
    }
   ],
   "source": [
    "(unique, counts) = np.unique(y_train, return_counts=True)\n",
    "uniq = dict(zip(unique, counts))\n",
    "uniq"
   ]
  },
  {
   "cell_type": "code",
   "execution_count": 5,
   "metadata": {},
   "outputs": [
    {
     "data": {
      "image/png": "[encoded data removed]",
      "text/plain": [
       "<Figure size 1080x360 with 10 Axes>"
      ]
     },
     "metadata": {
      "needs_background": "light"
     },
     "output_type": "display_data"
    }
   ],
   "source": [
    "fig = plt.figure(figsize=(15,5))\n",
    "\n",
    "for i in uniq.keys():\n",
    "    plt.subplot(2, 5, i+1)\n",
    "    plt.imshow(X_train[np.where(y_train==i)[0][42]].reshape(8,8), cmap='gray')\n",
    "    plt.axis(\"off\")\n",
    "    plt.title(i)\n",
    "\n",
    "plt.suptitle(\"Digitst from 0 to 9\", fontsize=20)\n",
    "plt.show()"
   ]
  },
  {
   "cell_type": "code",
   "execution_count": 6,
   "metadata": {},
   "outputs": [],
   "source": [
    "mlp = MLPClassifier(random_state=42)"
   ]
  },
  {
   "cell_type": "code",
   "execution_count": 7,
   "metadata": {},
   "outputs": [
    {
     "data": {
      "text/plain": [
       "MLPClassifier(random_state=42)"
      ]
     },
     "execution_count": 7,
     "metadata": {},
     "output_type": "execute_result"
    }
   ],
   "source": [
    "mlp.fit(X_train, y_train)"
   ]
  },
  {
   "cell_type": "code",
   "execution_count": 8,
   "metadata": {},
   "outputs": [
    {
     "name": "stdout",
     "output_type": "stream",
     "text": [
      "Baseline Scores\n",
      "Train ::  100.0 \n",
      "Test ::  97.22\n"
     ]
    }
   ],
   "source": [
    "print(\"Baseline Scores\")\n",
    "print(\"Train :: \", round(accuracy_score(mlp.predict(X_train), y_train)*100, 2),\n",
    "      \"\\nTest :: \", round(accuracy_score(mlp.predict(X_test), y_test)*100, 2))"
   ]
  },
  {
   "cell_type": "code",
   "execution_count": 9,
   "metadata": {},
   "outputs": [],
   "source": [
    "params = dict(hidden_layer_sizes=[(200,50), (300,), (350,)],\n",
    "              alpha=[1e-04, 0.01])\n",
    "\n",
    "skf = StratifiedKFold(n_splits=20, random_state=42, shuffle=True)\n",
    "\n",
    "gscv_clf = GridSearchCV(mlp, params, cv=skf, scoring='accuracy', n_jobs=-1)"
   ]
  },
  {
   "cell_type": "code",
   "execution_count": 10,
   "metadata": {},
   "outputs": [
    {
     "data": {
      "text/plain": [
       "GridSearchCV(cv=StratifiedKFold(n_splits=20, random_state=42, shuffle=True),\n",
       "             estimator=MLPClassifier(random_state=42), n_jobs=-1,\n",
       "             param_grid={'alpha': [0.0001, 0.01],\n",
       "                         'hidden_layer_sizes': [(200, 50), (300,), (350,)]},\n",
       "             scoring='accuracy')"
      ]
     },
     "execution_count": 10,
     "metadata": {},
     "output_type": "execute_result"
    }
   ],
   "source": [
    "gscv_clf.fit(X_train, y_train)"
   ]
  },
  {
   "cell_type": "code",
   "execution_count": 11,
   "metadata": {},
   "outputs": [
    {
     "name": "stdout",
     "output_type": "stream",
     "text": [
      "Score :: 0.9833137715179971\n",
      "Estimator :: MLPClassifier(alpha=0.01, hidden_layer_sizes=(350,), random_state=42)\n"
     ]
    }
   ],
   "source": [
    "print('Score :: {1}\\nEstimator :: {0}'.format(gscv_clf.best_estimator_ ,\n",
    "                                              gscv_clf.best_score_))"
   ]
  },
  {
   "cell_type": "code",
   "execution_count": 12,
   "metadata": {},
   "outputs": [],
   "source": [
    "y_pred_train = gscv_clf.predict(X_train)\n",
    "y_pred_test = gscv_clf.predict(X_test)"
   ]
  },
  {
   "cell_type": "code",
   "execution_count": 13,
   "metadata": {},
   "outputs": [
    {
     "name": "stdout",
     "output_type": "stream",
     "text": [
      "Train ::  100.0 \n",
      "Test ::  98.61\n"
     ]
    }
   ],
   "source": [
    "print(\"Train :: \", round(accuracy_score(y_train, y_pred_train)*100, 2),\n",
    "      \"\\nTest :: \", round(accuracy_score(y_test, y_pred_test)*100, 2))"
   ]
  },
  {
   "cell_type": "markdown",
   "metadata": {},
   "source": [
    "#### Reduction in error rate from 2.78% to 1.39%"
   ]
  }
 ],
 "metadata": {
  "kernelspec": {
   "display_name": "defaultvenv",
   "language": "python",
   "name": "defaultvenv"
  },
  "language_info": {
   "codemirror_mode": {
    "name": "ipython",
    "version": 3
   },
   "file_extension": ".py",
   "mimetype": "text/x-python",
   "name": "python",
   "nbconvert_exporter": "python",
   "pygments_lexer": "ipython3",
   "version": "3.8.2"
  }
 },
 "nbformat": 4,
 "nbformat_minor": 4
}
