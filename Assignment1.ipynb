{
 "cells": [
  {
   "cell_type": "code",
   "execution_count": 1,
   "metadata": {},
   "outputs": [],
   "source": [
    "from pyspark import SparkContext, SparkConf\n",
    "from pyspark.sql import SparkSession\n",
    "import numpy as np"
   ]
  },
  {
   "cell_type": "code",
   "execution_count": 2,
   "metadata": {},
   "outputs": [],
   "source": [
    "conf = SparkConf().setAppName('SparkApp').setMaster('local')\n",
    "sc = SparkContext(conf=conf)\n",
    "spark = SparkSession(sc)"
   ]
  },
  {
   "cell_type": "code",
   "execution_count": 3,
   "metadata": {},
   "outputs": [],
   "source": [
    "txt_file = sc.textFile(\"./data/sample.txt\")"
   ]
  },
  {
   "cell_type": "code",
   "execution_count": 4,
   "metadata": {},
   "outputs": [
    {
     "name": "stdout",
     "output_type": "stream",
     "text": [
      "['Master Chief Petty Officer John-117 or Master Chief is a fictional character and the protagonist in the Halo multimedia franchise', 'Master Chief is a playable character in the series of science fiction first-person shooter video games Halo', 'Master Chief is a towering supersoldier known as a Spartan raised and trained from childhood for combat']\n"
     ]
    }
   ],
   "source": [
    "print(txt_file.collect())"
   ]
  },
  {
   "cell_type": "markdown",
   "metadata": {},
   "source": [
    "#### Q1: Convert all words in a rdd to lowercase and split the lines of a document using space."
   ]
  },
  {
   "cell_type": "code",
   "execution_count": 5,
   "metadata": {},
   "outputs": [],
   "source": [
    "splitted_line_rdd = txt_file.map(lambda x: x.lower().split())\n",
    "\n",
    "words_rdd = splitted_line_rdd.flatMap(lambda data: [x for x in data])"
   ]
  },
  {
   "cell_type": "code",
   "execution_count": 6,
   "metadata": {},
   "outputs": [
    {
     "name": "stdout",
     "output_type": "stream",
     "text": [
      "['master', 'chief', 'petty', 'officer', 'john-117', 'or', 'master', 'chief', 'is', 'a', 'fictional', 'character', 'and', 'the', 'protagonist', 'in', 'the', 'halo', 'multimedia', 'franchise', 'master', 'chief', 'is', 'a', 'playable', 'character', 'in', 'the', 'series', 'of', 'science', 'fiction', 'first-person', 'shooter', 'video', 'games', 'halo', 'master', 'chief', 'is', 'a', 'towering', 'supersoldier', 'known', 'as', 'a', 'spartan', 'raised', 'and', 'trained', 'from', 'childhood', 'for', 'combat']\n",
      "\n",
      "Size :: 54\n"
     ]
    }
   ],
   "source": [
    "print(words_rdd.collect()) # printing all words\n",
    "print(\"\\nSize :: %d\" % words_rdd.count())"
   ]
  },
  {
   "cell_type": "markdown",
   "metadata": {},
   "source": [
    "#### Q2: Next, I want to remove the words, which are not necessary to analyze this text. We call these words as “stop words”; Stop words do not add much value in a text. For example, “is”, “am”, “are” and “the” are few examples of stop words."
   ]
  },
  {
   "cell_type": "code",
   "execution_count": 7,
   "metadata": {},
   "outputs": [],
   "source": [
    "stop_words_list = sc.textFile(\"./data/stop_words.txt\").collect()\n",
    "no_stopwords_rdd = words_rdd.filter(lambda x: x not in stop_words_list)"
   ]
  },
  {
   "cell_type": "code",
   "execution_count": 8,
   "metadata": {},
   "outputs": [
    {
     "name": "stdout",
     "output_type": "stream",
     "text": [
      "['master', 'chief', 'petty', 'officer', 'john-117', 'master', 'chief', 'fictional', 'character', 'protagonist', 'halo', 'multimedia', 'franchise', 'master', 'chief', 'playable', 'character', 'series', 'science', 'fiction', 'first-person', 'shooter', 'video', 'games', 'halo', 'master', 'chief', 'towering', 'supersoldier', 'known', 'spartan', 'raised', 'trained', 'childhood', 'combat']\n",
      "\n",
      "Size :: 35\n"
     ]
    }
   ],
   "source": [
    "print(no_stopwords_rdd.collect())\n",
    "print(\"\\nSize :: %d\" % no_stopwords_rdd.count())"
   ]
  },
  {
   "cell_type": "markdown",
   "metadata": {},
   "source": [
    "#### Q3: After getting the results into `no_stopwords_rdd`, we want to group the words in `no_stopwords_rdd` based on which letters they start with. For example, suppose I want to group each word of `no_stopwords_rdd` based on first 3 characters."
   ]
  },
  {
   "cell_type": "code",
   "execution_count": 9,
   "metadata": {},
   "outputs": [
    {
     "name": "stdout",
     "output_type": "stream",
     "text": [
      " :: Groups and words ::\n"
     ]
    },
    {
     "data": {
      "text/plain": [
       "{'mas': ['master', 'master', 'master', 'master'],\n",
       " 'chi': ['chief', 'chief', 'chief', 'chief', 'childhood'],\n",
       " 'pet': ['petty'],\n",
       " 'off': ['officer'],\n",
       " 'joh': ['john-117'],\n",
       " 'fic': ['fictional', 'fiction'],\n",
       " 'cha': ['character', 'character'],\n",
       " 'pro': ['protagonist'],\n",
       " 'hal': ['halo', 'halo'],\n",
       " 'mul': ['multimedia'],\n",
       " 'fra': ['franchise'],\n",
       " 'pla': ['playable'],\n",
       " 'ser': ['series'],\n",
       " 'sci': ['science'],\n",
       " 'fir': ['first-person'],\n",
       " 'sho': ['shooter'],\n",
       " 'vid': ['video'],\n",
       " 'gam': ['games'],\n",
       " 'tow': ['towering'],\n",
       " 'sup': ['supersoldier'],\n",
       " 'kno': ['known'],\n",
       " 'spa': ['spartan'],\n",
       " 'rai': ['raised'],\n",
       " 'tra': ['trained'],\n",
       " 'com': ['combat']}"
      ]
     },
     "execution_count": 9,
     "metadata": {},
     "output_type": "execute_result"
    }
   ],
   "source": [
    "grouped_rdd = no_stopwords_rdd.groupBy(lambda x: x[:3])\n",
    "\n",
    "print(\" :: Groups and words ::\")\n",
    "{k: list(v) for (k,v) in grouped_rdd.collect()}"
   ]
  },
  {
   "cell_type": "markdown",
   "metadata": {},
   "source": [
    "#### Q4: What if we want to calculate how many times each word is coming in corpus ?"
   ]
  },
  {
   "cell_type": "code",
   "execution_count": 10,
   "metadata": {},
   "outputs": [
    {
     "name": "stdout",
     "output_type": "stream",
     "text": [
      " :: Groups and number of words ::\n"
     ]
    },
    {
     "data": {
      "text/plain": [
       "{'mas': 4,\n",
       " 'chi': 5,\n",
       " 'pet': 1,\n",
       " 'off': 1,\n",
       " 'joh': 1,\n",
       " 'fic': 2,\n",
       " 'cha': 2,\n",
       " 'pro': 1,\n",
       " 'hal': 2,\n",
       " 'mul': 1,\n",
       " 'fra': 1,\n",
       " 'pla': 1,\n",
       " 'ser': 1,\n",
       " 'sci': 1,\n",
       " 'fir': 1,\n",
       " 'sho': 1,\n",
       " 'vid': 1,\n",
       " 'gam': 1,\n",
       " 'tow': 1,\n",
       " 'sup': 1,\n",
       " 'kno': 1,\n",
       " 'spa': 1,\n",
       " 'rai': 1,\n",
       " 'tra': 1,\n",
       " 'com': 1}"
      ]
     },
     "execution_count": 10,
     "metadata": {},
     "output_type": "execute_result"
    }
   ],
   "source": [
    "print(\" :: Groups and number of words ::\")\n",
    "{k: len(list(v)) for (k,v) in grouped_rdd.collect()}"
   ]
  },
  {
   "cell_type": "markdown",
   "metadata": {},
   "source": [
    "#### Q5: How do I perform a task (say count the words ‘Chief’ and ‘Master’ in `no_stopwords_rdd`) separatly on each partition and get the output of the task performed in these partition ?"
   ]
  },
  {
   "cell_type": "code",
   "execution_count": 11,
   "metadata": {},
   "outputs": [],
   "source": [
    "word_list = ['master', 'character']\n",
    "\n",
    "def count_words(part_iter):\n",
    "    counts = np.zeros(len(word_list), dtype=int)\n",
    "    for i in part_iter:\n",
    "        for j,k in enumerate(word_list):\n",
    "            if i == k:\n",
    "                print(i, k, j)\n",
    "                counts[j] += 1\n",
    "    return counts"
   ]
  },
  {
   "cell_type": "code",
   "execution_count": 12,
   "metadata": {},
   "outputs": [
    {
     "data": {
      "text/plain": [
       "[[4, 2]]"
      ]
     },
     "execution_count": 12,
     "metadata": {},
     "output_type": "execute_result"
    }
   ],
   "source": [
    "no_stopwords_rdd.mapPartitions(count_words).glom().collect()"
   ]
  },
  {
   "cell_type": "markdown",
   "metadata": {},
   "source": [
    "#### Q6: What if I want to work with samples instead of full data ?"
   ]
  },
  {
   "cell_type": "code",
   "execution_count": 13,
   "metadata": {},
   "outputs": [
    {
     "name": "stdout",
     "output_type": "stream",
     "text": [
      "['master', 'chief', 'officer', 'john-117', 'fictional', 'halo', 'chief', 'series', 'science', 'trained', 'childhood', 'combat']\n"
     ]
    }
   ],
   "source": [
    "sample_30_perc1 = no_stopwords_rdd.sample(False, 0.3, seed=42)\n",
    "print(sample_30_perc1.collect())"
   ]
  },
  {
   "cell_type": "markdown",
   "metadata": {},
   "source": [
    "#### Q7: What if I want to create a RDD which contains all the elements (a.k.a. union) of two RDDs ?"
   ]
  },
  {
   "cell_type": "code",
   "execution_count": 14,
   "metadata": {},
   "outputs": [
    {
     "name": "stdout",
     "output_type": "stream",
     "text": [
      "RDD1 :: ['master', 'officer', 'halo', 'series', 'science', 'trained']\n",
      "RDD2 :: ['chief', 'series', 'first-person', 'games', 'known']\n",
      "RDD1 U RDD1 :: ['master', 'officer', 'halo', 'series', 'science', 'trained', 'chief', 'series', 'first-person', 'games', 'known']\n"
     ]
    }
   ],
   "source": [
    "sample_30_perc1 = no_stopwords_rdd.sample(False, 0.1, seed=42)\n",
    "sample_30_perc2 = no_stopwords_rdd.sample(False, 0.1, seed=43)\n",
    "print('RDD1 ::', sample_30_perc1.collect())\n",
    "print('RDD2 ::', sample_30_perc2.collect())\n",
    "print('RDD1 U RDD1 ::',sample_30_perc1.union(sample_30_perc2).collect())"
   ]
  },
  {
   "cell_type": "markdown",
   "metadata": {},
   "source": [
    "#### Q8: If we want to join the two pair RDDs based on their key."
   ]
  },
  {
   "cell_type": "code",
   "execution_count": 15,
   "metadata": {},
   "outputs": [
    {
     "name": "stdout",
     "output_type": "stream",
     "text": [
      "________________________:: G1 ::________________________\n"
     ]
    },
    {
     "data": {
      "text/plain": [
       "{'mas': ['master', 'master', 'master', 'master'],\n",
       " 'off': ['officer'],\n",
       " 'fra': ['franchise'],\n",
       " 'gam': ['games'],\n",
       " 'tow': ['towering']}"
      ]
     },
     "metadata": {},
     "output_type": "display_data"
    },
    {
     "name": "stdout",
     "output_type": "stream",
     "text": [
      "________________________:: G2 ::________________________\n"
     ]
    },
    {
     "data": {
      "text/plain": [
       "{'cha': ['character', 'character'],\n",
       " 'gam': ['games'],\n",
       " 'kno': ['known'],\n",
       " 'tra': ['trained']}"
      ]
     },
     "metadata": {},
     "output_type": "display_data"
    },
    {
     "name": "stdout",
     "output_type": "stream",
     "text": [
      "______________________:: G1 U G2 ::_____________________\n"
     ]
    },
    {
     "data": {
      "text/plain": [
       "{'mas': ['master', 'master', 'master', 'master'],\n",
       " 'off': ['officer'],\n",
       " 'fra': ['franchise'],\n",
       " 'gam': ['games'],\n",
       " 'tow': ['towering'],\n",
       " 'cha': ['character', 'character'],\n",
       " 'kno': ['known'],\n",
       " 'tra': ['trained']}"
      ]
     },
     "metadata": {},
     "output_type": "display_data"
    }
   ],
   "source": [
    "g1 = grouped_rdd.sample(False, 0.1, seed=42)\n",
    "g2 = grouped_rdd.sample(False, 0.1, seed=43)\n",
    "g1.collect(), g2.collect()\n",
    "print(\"________________________:: G1 ::________________________\")\n",
    "display({k: list(v) for (k,v) in g1.collect()})\n",
    "print(\"________________________:: G2 ::________________________\")\n",
    "display({k: list(v) for (k,v) in g2.collect()})\n",
    "print(\"______________________:: G1 U G2 ::_____________________\")\n",
    "display({k: list(v) for (k,v) in g1.union(g2).collect()})"
   ]
  },
  {
   "cell_type": "markdown",
   "metadata": {},
   "source": [
    "#### Q9: How to calculate distinct elements in a RDD ?"
   ]
  },
  {
   "cell_type": "code",
   "execution_count": 16,
   "metadata": {},
   "outputs": [
    {
     "data": {
      "text/plain": [
       "27"
      ]
     },
     "execution_count": 16,
     "metadata": {},
     "output_type": "execute_result"
    }
   ],
   "source": [
    "no_stopwords_rdd.distinct().count()"
   ]
  },
  {
   "cell_type": "markdown",
   "metadata": {},
   "source": [
    "#### Q10: What if I want to reduce the number of partition of a RDD and get the result in a new RDD?"
   ]
  },
  {
   "cell_type": "code",
   "execution_count": 17,
   "metadata": {},
   "outputs": [
    {
     "name": "stdout",
     "output_type": "stream",
     "text": [
      "Initial #Partitions ::  4\n",
      "After coalesce #Partitions ::  1\n"
     ]
    }
   ],
   "source": [
    "num_rdd = sc.textFile('./data/nums.txt', 4)\n",
    "\n",
    "print('Initial #Partitions :: ', num_rdd.getNumPartitions())\n",
    "num_rdd2 = num_rdd.coalesce(1)\n",
    "print('After coalesce #Partitions :: ', num_rdd2.getNumPartitions())"
   ]
  },
  {
   "cell_type": "markdown",
   "metadata": {},
   "source": [
    "#### Q11: How do I find out number of parition in RDD ?"
   ]
  },
  {
   "cell_type": "code",
   "execution_count": 18,
   "metadata": {},
   "outputs": [
    {
     "data": {
      "text/plain": [
       "4"
      ]
     },
     "execution_count": 18,
     "metadata": {},
     "output_type": "execute_result"
    }
   ],
   "source": [
    "num_rdd.getNumPartitions()"
   ]
  },
  {
   "cell_type": "markdown",
   "metadata": {},
   "source": [
    "#### Q13: Count the number of elements in RDD."
   ]
  },
  {
   "cell_type": "code",
   "execution_count": 19,
   "metadata": {},
   "outputs": [
    {
     "data": {
      "text/plain": [
       "30"
      ]
     },
     "execution_count": 19,
     "metadata": {},
     "output_type": "execute_result"
    }
   ],
   "source": [
    "num_rdd.count()"
   ]
  },
  {
   "cell_type": "markdown",
   "metadata": {},
   "source": [
    "#### Q14: Find the maximum, minimum, sum, variance and standard deviation of “num_rdd”."
   ]
  },
  {
   "cell_type": "code",
   "execution_count": 20,
   "metadata": {},
   "outputs": [
    {
     "name": "stdout",
     "output_type": "stream",
     "text": [
      "Max : 10000\n",
      "Min : 1\n",
      "Sum : 18787\n",
      "Variance : 3975026.778888888\n",
      "Standard Deviation : 1993.7469194681878\n"
     ]
    }
   ],
   "source": [
    "num_rdd = num_rdd.map(lambda x: int(x))\n",
    "print('Max : {0}\\nMin : {1}\\nSum : {2}\\nVariance : {3}\\nStandard Deviation : {4}'.\\\n",
    "      format(num_rdd.max(), num_rdd.min(), num_rdd.sum(), num_rdd.variance(),\n",
    "             num_rdd.stdev()))"
   ]
  }
 ],
 "metadata": {
  "kernelspec": {
   "display_name": "defaultvenv",
   "language": "python",
   "name": "defaultvenv"
  },
  "language_info": {
   "codemirror_mode": {
    "name": "ipython",
    "version": 3
   },
   "file_extension": ".py",
   "mimetype": "text/x-python",
   "name": "python",
   "nbconvert_exporter": "python",
   "pygments_lexer": "ipython3",
   "version": "3.8.5"
  }
 },
 "nbformat": 4,
 "nbformat_minor": 4
}
